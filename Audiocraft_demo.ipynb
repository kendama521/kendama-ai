{
  "nbformat": 4,
  "nbformat_minor": 0,
  "metadata": {
    "colab": {
      "provenance": [],
      "gpuType": "T4"
    },
    "kernelspec": {
      "name": "python3",
      "display_name": "Python 3"
    },
    "language_info": {
      "name": "python"
    },
    "accelerator": "GPU"
  },
  "cells": [
    {
      "cell_type": "markdown",
      "source": [
        "# 事前準備"
      ],
      "metadata": {
        "id": "bviyn5qIntx0"
      }
    },
    {
      "cell_type": "code",
      "source": [
        "# Adapted from https://github.com/camenduru/MusicGen-colab\n",
        "%cd /content\n",
        "!git clone https://github.com/facebookresearch/audiocraft\n",
        "%cd /content/audiocraft\n",
        "!pip install -r requirements.txt"
      ],
      "metadata": {
        "id": "ku0ui5lKwpF7"
      },
      "execution_count": null,
      "outputs": []
    },
    {
      "cell_type": "code",
      "source": [
        "import torchaudio\n",
        "from audiocraft.models import MusicGen\n",
        "from audiocraft.data.audio import audio_write\n",
        "from IPython.display import Audio"
      ],
      "metadata": {
        "id": "NJXpj7lyYjve"
      },
      "execution_count": null,
      "outputs": []
    },
    {
      "cell_type": "code",
      "source": [
        "model = MusicGen.get_pretrained('melody')\n",
        "#small: 300M モデル、text to musicのみ\n",
        "#medium: 1.5B モデル、text to musicのみ\n",
        "#melody: 1.5B モデル、text to music、text + melody to music\n",
        "#large: 3.3B モデル、text to musicのみ"
      ],
      "metadata": {
        "id": "tJWP_i5_nCjx"
      },
      "execution_count": null,
      "outputs": []
    },
    {
      "cell_type": "code",
      "source": [
        "#生成する音楽の時間を指定します\n",
        "model.set_generation_params(duration=30)  # 今回だと30秒の音楽が生成されます。"
      ],
      "metadata": {
        "id": "dlEluaa2nCmN"
      },
      "execution_count": null,
      "outputs": []
    },
    {
      "cell_type": "markdown",
      "source": [
        "# 音楽を生成する"
      ],
      "metadata": {
        "id": "dz-4OeN7nxBK"
      }
    },
    {
      "cell_type": "markdown",
      "source": [
        "## 指定なしで生成"
      ],
      "metadata": {
        "id": "UUNB6yU4n0Tv"
      }
    },
    {
      "cell_type": "code",
      "source": [
        "wav = model.generate_unconditional(2)    # 引数で指定した数の音楽を生成します"
      ],
      "metadata": {
        "id": "UHPixU2TnCom"
      },
      "execution_count": null,
      "outputs": []
    },
    {
      "cell_type": "code",
      "source": [
        "Audio(wav[0].cpu().numpy(), rate=model.sample_rate)"
      ],
      "metadata": {
        "id": "pHGumT3znCq-"
      },
      "execution_count": null,
      "outputs": []
    },
    {
      "cell_type": "markdown",
      "source": [
        "## 条件指定して生成"
      ],
      "metadata": {
        "id": "zl4Y5loIn8hY"
      }
    },
    {
      "cell_type": "code",
      "source": [
        "# 生成する音楽の条件を指定します。\n",
        "descriptions = ['Japanese', 'Japanese pop', 'sad jazz']\n",
        "wav = model.generate(descriptions)"
      ],
      "metadata": {
        "id": "S98veZE3nCtV"
      },
      "execution_count": null,
      "outputs": []
    },
    {
      "cell_type": "code",
      "source": [
        "Audio(wav[0].cpu().numpy(), rate=model.sample_rate)"
      ],
      "metadata": {
        "id": "2IPCzP0ynKLp"
      },
      "execution_count": null,
      "outputs": []
    },
    {
      "cell_type": "code",
      "source": [
        "Audio(wav[1].cpu().numpy(), rate=model.sample_rate)"
      ],
      "metadata": {
        "id": "bASJ7tJRnKOA"
      },
      "execution_count": null,
      "outputs": []
    },
    {
      "cell_type": "code",
      "source": [
        "Audio(wav[2].cpu().numpy(), rate=model.sample_rate)"
      ],
      "metadata": {
        "id": "L9FNx6ennKmY"
      },
      "execution_count": null,
      "outputs": []
    },
    {
      "cell_type": "code",
      "source": [
        "audio_write('test', one_wav.cpu(), model.sample_rate, strategy=\"loudness\", loudness_compressor=True) #テキスト＋メロディーでの音楽生成のために「sad jazz」の音楽を保存しておきます。"
      ],
      "metadata": {
        "id": "btvdNzj_ndAD"
      },
      "execution_count": null,
      "outputs": []
    },
    {
      "cell_type": "markdown",
      "source": [
        "## テキスト+メロディーで生成"
      ],
      "metadata": {
        "id": "JQEQtpqKoDJq"
      }
    },
    {
      "cell_type": "code",
      "source": [
        "melody, sr = torchaudio.load('/content/audiocraft/test.wav')\n",
        "descriptions = ['Japanese', 'Japanese pop']\n",
        "# generates using the melody from the given audio and the provided descriptions.\n",
        "wav = model.generate_with_chroma(descriptions, melody[None].expand(2, -1, -1), sr)"
      ],
      "metadata": {
        "id": "W0RIV1XfnCvt"
      },
      "execution_count": null,
      "outputs": []
    },
    {
      "cell_type": "code",
      "source": [
        "Audio(wav[0].cpu().numpy(), rate=model.sample_rate)"
      ],
      "metadata": {
        "id": "LTrKSuymnCyM"
      },
      "execution_count": null,
      "outputs": []
    }
  ]
}